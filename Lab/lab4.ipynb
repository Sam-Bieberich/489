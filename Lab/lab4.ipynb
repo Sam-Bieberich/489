{
 "cells": [
  {
   "cell_type": "markdown",
   "metadata": {},
   "source": [
    "# Lab 4: Data Conversion Figures of Merit\n",
    "\n",
    "## Question 1\n",
    "\n",
    "A 200mV rms value sinusoidal signal is applied to and ideal 12 bits ADC. The full range peak-to-peak voltage of the ADC is 1.2V.\n",
    "\n",
    "Part a: Find the SNR of the ADC output using Python and provide plots.\n",
    "\n",
    "\n",
    "Part b: Now the input sinusoidal is full range but comes with an additive Gaussian noise with standard deviation of 0.5 V. What is the SNR of the input signal? What is the SNR of the ADC output bits?\n",
    "\n",
    "Part c: Repeat b assuming that the noise added to the sinewave is uniformly distributed with peak-to-peak value of 1V.\n",
    "\n"
   ]
  },
  {
   "cell_type": "code",
   "execution_count": null,
   "metadata": {},
   "outputs": [],
   "source": []
  },
  {
   "cell_type": "markdown",
   "metadata": {},
   "source": [
    "## Question 2\n",
    "\n",
    "Assume that an ADC uses an oversampling factor \\(K = \\frac{f_s}{2B}\\), where \\(f_s\\) is the sampling rate and \\(B\\) is the signal bandwidth. Then \\(K = 1\\) is Nyquist rate and \\(K > 1\\) means oversampling. The quantization noise variance is \\(\\sigma_e^2 = \\frac{\\Delta^2}{12}\\) as we defined in class for the additive noise model. As you may recall also, this noise is uniformly distributed and white, i.e., is flat in the frequency range \\([0, f_s/2]\\). Then the noise power spectral density will be \\(\\frac{\\sigma_e^2}{f_s}\\), so the integral in the range \\([-f_s/2, f_s/2]\\) is \\(\\sigma_e^2\\). Now assume that a perfect low-pass filter is used that selects the signal bandwidth \\(B\\) and rejects all the out of band noise. Find an expression for the output SNR of this oversampled ADC+low-pass filter combination."
   ]
  },
  {
   "cell_type": "code",
   "execution_count": null,
   "metadata": {},
   "outputs": [],
   "source": []
  },
  {
   "cell_type": "markdown",
   "metadata": {},
   "source": [
    "## Question 3\n",
    "\n",
    "A 3-bit D/A converter was designed for an ideal LSB level of 100 mV. The following\n",
    "output voltages levels were measured for the real D/A for thee codes 000 to 111\n",
    "respectively: -0.01V 0.105V 0.195V 0.28V 0.37V 0.48V 0.6V 0.75V\n",
    "\n",
    "Part a: Find the offset \\& full-scale error in units of LSBs\n",
    "\n",
    "Part b: Find the end-point ideal \\& actual gain in LSB/code and compute the gain error in LSB/code\n",
    "\n",
    "Part c: Find the end point corrected codes and compute DNL & INL for all the codes.\n",
    "\n",
    "Part d: What is the maximum DNL and INL?"
   ]
  },
  {
   "cell_type": "code",
   "execution_count": null,
   "metadata": {},
   "outputs": [],
   "source": [
    "# Hint: I suggest you take a look at the following article in case of you have questions for this problem: \n",
    "# http://focus.ti.com/lit/an/slaa013/slaa013.pdf#search=%22understanding%20data%20converters%20%22"
   ]
  },
  {
   "cell_type": "markdown",
   "metadata": {},
   "source": [
    "## Question 4\n",
    "\n",
    "A ramp histogram is used to characterize a 4-bit ADC, and the following vector is found: 43 115 85 101 122 170 75 146 125 60 95 95 115 40 120 242\n",
    "\n",
    "Part a: Calculate the DNL and INL\n",
    "\n",
    "Part b: What are the peak DNL and INL values?\n",
    "\n",
    "Part c: Is this ADC monotonic? Hint: Recall that you use as a reference the straight line that connects the end points of the transfer function provided by the histogram. This is needed to eliminate offset errors and full-scale errors. There is a trivial way to eliminate these errors. How?"
   ]
  },
  {
   "cell_type": "code",
   "execution_count": null,
   "metadata": {},
   "outputs": [],
   "source": []
  },
  {
   "cell_type": "markdown",
   "metadata": {},
   "source": [
    "## Question 5\n",
    "\n",
    "The end point DNL for a 3-bit ADC is measured to be: DNL: 0 -0.5 0 +0.5 -1 +0.5 +0.5\n",
    "0 (all numbers in terms of LSB) The ADC exhibits offset and full-scale error:\n",
    "\n",
    "Offset error = +0.5LSB\n",
    "\n",
    "Full scale error = +0.5LSB\n",
    "\n",
    "Part a: Find the INL for this ADC\n",
    "\n",
    "Part b: Plot the transfer curve of this ADC in Python."
   ]
  },
  {
   "cell_type": "code",
   "execution_count": null,
   "metadata": {},
   "outputs": [],
   "source": []
  },
  {
   "cell_type": "markdown",
   "metadata": {},
   "source": [
    "## Question 6\n",
    "\n",
    "Part a: Please explain the circuit dynamics for $\\phi_2$\n",
    "and $\\phi_2$. Clearly indicate the region of operation of the transistors (i.e., OFF, triode, saturation)\n",
    "\n",
    "Part b: Find an expression of the input vs the output that takes into account the gains and\n",
    "the positive regeneration of the circuit.\n",
    "\n",
    "Part c: Explain the advantages and disadvantages between dynamic and static latches?\n",
    "\n",
    "Part d: Is this latch a static, dynamic or a semi-dynamic latch? Why?"
   ]
  }
 ],
 "metadata": {
  "language_info": {
   "name": "python"
  }
 },
 "nbformat": 4,
 "nbformat_minor": 2
}
